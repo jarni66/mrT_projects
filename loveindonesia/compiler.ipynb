{
 "cells": [
  {
   "cell_type": "code",
   "execution_count": 2,
   "metadata": {},
   "outputs": [],
   "source": [
    "import pandas as pd\n",
    "import json\n",
    "import os\n",
    "import warnings\n",
    "warnings.filterwarnings('ignore')"
   ]
  },
  {
   "cell_type": "markdown",
   "metadata": {},
   "source": [
    "# Resto"
   ]
  },
  {
   "cell_type": "code",
   "execution_count": 3,
   "metadata": {},
   "outputs": [],
   "source": [
    "datas = {\n",
    "    'resto':[],\n",
    "    'culinary':[],\n",
    "    'address':[],\n",
    "    'phone':[],\n",
    "    'keyword':[],\n",
    "    'url':[],\n",
    "}\n",
    "filesName = os.listdir('OUTPUT/resto/')\n",
    "for fil in filesName:\n",
    "    try:\n",
    "        with open(f'OUTPUT/resto/{fil}') as f:\n",
    "            data = json.load(f)\n",
    "        for rec in data:\n",
    "            for key in rec.keys():\n",
    "                datas[key].append(rec[key])\n",
    "    except:\n",
    "        pass\n",
    "    "
   ]
  },
  {
   "cell_type": "code",
   "execution_count": 4,
   "metadata": {},
   "outputs": [
    {
     "data": {
      "text/html": [
       "<div>\n",
       "<style scoped>\n",
       "    .dataframe tbody tr th:only-of-type {\n",
       "        vertical-align: middle;\n",
       "    }\n",
       "\n",
       "    .dataframe tbody tr th {\n",
       "        vertical-align: top;\n",
       "    }\n",
       "\n",
       "    .dataframe thead th {\n",
       "        text-align: right;\n",
       "    }\n",
       "</style>\n",
       "<table border=\"1\" class=\"dataframe\">\n",
       "  <thead>\n",
       "    <tr style=\"text-align: right;\">\n",
       "      <th></th>\n",
       "      <th>resto</th>\n",
       "      <th>culinary</th>\n",
       "      <th>address</th>\n",
       "      <th>phone</th>\n",
       "      <th>keyword</th>\n",
       "      <th>url</th>\n",
       "    </tr>\n",
       "  </thead>\n",
       "  <tbody>\n",
       "    <tr>\n",
       "      <th>10651</th>\n",
       "      <td>Imperial Lamian</td>\n",
       "      <td>[Restaurant]</td>\n",
       "      <td>Artha Gading Mall, 1st FlJl. Artha Gading Sela...</td>\n",
       "      <td>(021) 4586 - 4350</td>\n",
       "      <td>[Chinese, Dim Sum, Noodle &amp; Soup]</td>\n",
       "      <td>https://www.loveindonesia.com/directory/en/jak...</td>\n",
       "    </tr>\n",
       "    <tr>\n",
       "      <th>653536</th>\n",
       "      <td>Solaria</td>\n",
       "      <td>[Restoran]</td>\n",
       "      <td>Emporium Pluit Mall, 4th Fl Unit 36 - 37Jl. Pl...</td>\n",
       "      <td>(021) 14 - 099</td>\n",
       "      <td>[Asian, Chinese, International]</td>\n",
       "      <td>https://www.loveindonesia.com/directory/en/jak...</td>\n",
       "    </tr>\n",
       "    <tr>\n",
       "      <th>401857</th>\n",
       "      <td>Dailybox Pondok Indah</td>\n",
       "      <td>[Restaurant]</td>\n",
       "      <td>Jl. Sultan Iskandar Muda No. 1B, Pondok Indah,...</td>\n",
       "      <td>None</td>\n",
       "      <td>[Asian]</td>\n",
       "      <td>https://www.loveindonesia.com/directory/en/jak...</td>\n",
       "    </tr>\n",
       "  </tbody>\n",
       "</table>\n",
       "</div>"
      ],
      "text/plain": [
       "                        resto      culinary  \\\n",
       "10651         Imperial Lamian  [Restaurant]   \n",
       "653536                Solaria    [Restoran]   \n",
       "401857  Dailybox Pondok Indah  [Restaurant]   \n",
       "\n",
       "                                                  address              phone  \\\n",
       "10651   Artha Gading Mall, 1st FlJl. Artha Gading Sela...  (021) 4586 - 4350   \n",
       "653536  Emporium Pluit Mall, 4th Fl Unit 36 - 37Jl. Pl...     (021) 14 - 099   \n",
       "401857  Jl. Sultan Iskandar Muda No. 1B, Pondok Indah,...               None   \n",
       "\n",
       "                                  keyword  \\\n",
       "10651   [Chinese, Dim Sum, Noodle & Soup]   \n",
       "653536    [Asian, Chinese, International]   \n",
       "401857                            [Asian]   \n",
       "\n",
       "                                                      url  \n",
       "10651   https://www.loveindonesia.com/directory/en/jak...  \n",
       "653536  https://www.loveindonesia.com/directory/en/jak...  \n",
       "401857  https://www.loveindonesia.com/directory/en/jak...  "
      ]
     },
     "execution_count": 4,
     "metadata": {},
     "output_type": "execute_result"
    }
   ],
   "source": [
    "df = pd.DataFrame(datas)\n",
    "df.sample(3)"
   ]
  },
  {
   "cell_type": "code",
   "execution_count": 5,
   "metadata": {},
   "outputs": [
    {
     "data": {
      "text/plain": [
       "(742927, 6)"
      ]
     },
     "execution_count": 5,
     "metadata": {},
     "output_type": "execute_result"
    }
   ],
   "source": [
    "df.shape"
   ]
  },
  {
   "cell_type": "code",
   "execution_count": 6,
   "metadata": {},
   "outputs": [
    {
     "data": {
      "text/plain": [
       "730011"
      ]
     },
     "execution_count": 6,
     "metadata": {},
     "output_type": "execute_result"
    }
   ],
   "source": [
    "df.duplicated(subset=['resto','address','phone','url']).sum()"
   ]
  },
  {
   "cell_type": "code",
   "execution_count": 7,
   "metadata": {},
   "outputs": [],
   "source": [
    "dfNoDup = df.drop_duplicates(subset=['resto','address','phone','url'],keep='first')"
   ]
  },
  {
   "cell_type": "code",
   "execution_count": 9,
   "metadata": {},
   "outputs": [
    {
     "data": {
      "text/plain": [
       "(12916, 6)"
      ]
     },
     "execution_count": 9,
     "metadata": {},
     "output_type": "execute_result"
    }
   ],
   "source": [
    "dfNoDup.shape"
   ]
  },
  {
   "cell_type": "code",
   "execution_count": 86,
   "metadata": {},
   "outputs": [],
   "source": [
    "def get_prov(x):\n",
    "    try :\n",
    "        prov = x.split(',')[-2].strip()\n",
    "        if prov == 'Indonesia':\n",
    "            return x.split(',')[-3].strip()\n",
    "        else:\n",
    "            return x.split(',')[-2].strip()\n",
    "    except :\n",
    "        return None\n",
    "    \n",
    "def get_city(x):\n",
    "    try :\n",
    "        prov = x.split(',')[-3].strip()\n",
    "        if prov == 'Jakarta':\n",
    "            return x.split(',')[-4].strip()\n",
    "        else:\n",
    "            return x.split(',')[-3].strip()\n",
    "    except :\n",
    "        return None\n",
    "    "
   ]
  },
  {
   "cell_type": "code",
   "execution_count": 96,
   "metadata": {},
   "outputs": [
    {
     "name": "stderr",
     "output_type": "stream",
     "text": [
      "C:\\Users\\Lenovo\\AppData\\Local\\Temp\\ipykernel_17140\\4144758328.py:1: SettingWithCopyWarning: \n",
      "A value is trying to be set on a copy of a slice from a DataFrame.\n",
      "Try using .loc[row_indexer,col_indexer] = value instead\n",
      "\n",
      "See the caveats in the documentation: https://pandas.pydata.org/pandas-docs/stable/user_guide/indexing.html#returning-a-view-versus-a-copy\n",
      "  dfNoDup['address'] = dfNoDup['full_address'].map(lambda x: x.split(',')[0])\n"
     ]
    }
   ],
   "source": [
    "dfNoDup['address'] = dfNoDup['full_address'].map(lambda x: x.split(',')[0])"
   ]
  },
  {
   "cell_type": "code",
   "execution_count": 111,
   "metadata": {},
   "outputs": [
    {
     "data": {
      "text/plain": [
       "Index(['resto', 'culinary', 'full_address', 'phone', 'keyword', 'url',\n",
       "       'province', 'city', 'address'],\n",
       "      dtype='object')"
      ]
     },
     "execution_count": 111,
     "metadata": {},
     "output_type": "execute_result"
    }
   ],
   "source": [
    "dfNoDup.columns"
   ]
  },
  {
   "cell_type": "code",
   "execution_count": 113,
   "metadata": {},
   "outputs": [],
   "source": [
    "cols = ['resto', 'culinary', 'address','province', 'city', 'phone', 'keyword', 'url', 'full_address']"
   ]
  },
  {
   "cell_type": "code",
   "execution_count": 114,
   "metadata": {},
   "outputs": [],
   "source": [
    "df_ok = dfNoDup[cols]"
   ]
  },
  {
   "cell_type": "code",
   "execution_count": 10,
   "metadata": {},
   "outputs": [],
   "source": [
    "writer = pd.ExcelWriter('OUTPUT/resto/LoveIndonesia_resto(2).xlsx',\n",
    "                        engine='xlsxwriter',\n",
    "                        engine_kwargs={\"options\": {\"strings_to_urls\": False}})\n",
    "df.to_excel(writer)\n",
    "writer.close()"
   ]
  },
  {
   "cell_type": "markdown",
   "metadata": {},
   "source": [
    "# Non Resto"
   ]
  },
  {
   "cell_type": "code",
   "execution_count": 116,
   "metadata": {},
   "outputs": [],
   "source": [
    "datas = {\n",
    "    'resto':[],\n",
    "    'culinary':[],\n",
    "    'address':[],\n",
    "    'phone':[],\n",
    "    'keyword':[],\n",
    "    'url':[],\n",
    "}\n",
    "filesName = os.listdir('OUTPUT/non_resto/')\n",
    "for fil in filesName:\n",
    "    try:\n",
    "        with open(f'OUTPUT/non_resto/{fil}') as f:\n",
    "            data = json.load(f)\n",
    "        for rec in data:\n",
    "            for key in rec.keys():\n",
    "                datas[key].append(rec[key])\n",
    "    except:\n",
    "        pass"
   ]
  },
  {
   "cell_type": "code",
   "execution_count": 117,
   "metadata": {},
   "outputs": [],
   "source": [
    "df_nonResto = pd.DataFrame(datas)"
   ]
  },
  {
   "cell_type": "code",
   "execution_count": 118,
   "metadata": {},
   "outputs": [
    {
     "data": {
      "text/plain": [
       "(35105, 6)"
      ]
     },
     "execution_count": 118,
     "metadata": {},
     "output_type": "execute_result"
    }
   ],
   "source": [
    "df_nonResto.shape"
   ]
  },
  {
   "cell_type": "code",
   "execution_count": 119,
   "metadata": {},
   "outputs": [
    {
     "data": {
      "text/plain": [
       "32547"
      ]
     },
     "execution_count": 119,
     "metadata": {},
     "output_type": "execute_result"
    }
   ],
   "source": [
    "df_nonResto.duplicated(subset=['resto','address','phone','url']).sum()"
   ]
  },
  {
   "cell_type": "code",
   "execution_count": 120,
   "metadata": {},
   "outputs": [],
   "source": [
    "df_nonResto_NoDup = df_nonResto.drop_duplicates(subset=['resto','address','phone','url'],keep='first')"
   ]
  },
  {
   "cell_type": "code",
   "execution_count": 121,
   "metadata": {},
   "outputs": [
    {
     "data": {
      "text/plain": [
       "(2558, 6)"
      ]
     },
     "execution_count": 121,
     "metadata": {},
     "output_type": "execute_result"
    }
   ],
   "source": [
    "df_nonResto_NoDup.shape"
   ]
  },
  {
   "cell_type": "code",
   "execution_count": 122,
   "metadata": {},
   "outputs": [
    {
     "data": {
      "text/html": [
       "<div>\n",
       "<style scoped>\n",
       "    .dataframe tbody tr th:only-of-type {\n",
       "        vertical-align: middle;\n",
       "    }\n",
       "\n",
       "    .dataframe tbody tr th {\n",
       "        vertical-align: top;\n",
       "    }\n",
       "\n",
       "    .dataframe thead th {\n",
       "        text-align: right;\n",
       "    }\n",
       "</style>\n",
       "<table border=\"1\" class=\"dataframe\">\n",
       "  <thead>\n",
       "    <tr style=\"text-align: right;\">\n",
       "      <th></th>\n",
       "      <th>resto</th>\n",
       "      <th>culinary</th>\n",
       "      <th>address</th>\n",
       "      <th>phone</th>\n",
       "      <th>keyword</th>\n",
       "      <th>url</th>\n",
       "    </tr>\n",
       "  </thead>\n",
       "  <tbody>\n",
       "    <tr>\n",
       "      <th>10407</th>\n",
       "      <td>Maju Jaya</td>\n",
       "      <td>[Spa &amp; Beauty]</td>\n",
       "      <td>ITC Mangga Dua, 1st Fl Blok A Unit 81Jl. Mangg...</td>\n",
       "      <td>(021) 601 - 1043</td>\n",
       "      <td>[Body Care]</td>\n",
       "      <td>https://www.loveindonesia.com/directory/en/jak...</td>\n",
       "    </tr>\n",
       "    <tr>\n",
       "      <th>20520</th>\n",
       "      <td>Nail Pia</td>\n",
       "      <td>[Spa &amp; Beauty]</td>\n",
       "      <td>Emporium Pluit Mall, 1st Fl Unit 17Jl. Pluit S...</td>\n",
       "      <td>(021) 6667 - 6546</td>\n",
       "      <td>[Nail Treatment]</td>\n",
       "      <td>https://www.loveindonesia.com/directory/en/jak...</td>\n",
       "    </tr>\n",
       "    <tr>\n",
       "      <th>1011</th>\n",
       "      <td>Alegro F KTV</td>\n",
       "      <td>[Bar &amp; Club]</td>\n",
       "      <td>Kelapa Gading A6 BJl. Boulevard Artha Gading N...</td>\n",
       "      <td>(021) 4587 - 3977</td>\n",
       "      <td>[Karaoke]</td>\n",
       "      <td>https://www.loveindonesia.com/directory/en/jak...</td>\n",
       "    </tr>\n",
       "  </tbody>\n",
       "</table>\n",
       "</div>"
      ],
      "text/plain": [
       "              resto        culinary  \\\n",
       "10407     Maju Jaya  [Spa & Beauty]   \n",
       "20520      Nail Pia  [Spa & Beauty]   \n",
       "1011   Alegro F KTV    [Bar & Club]   \n",
       "\n",
       "                                                 address              phone  \\\n",
       "10407  ITC Mangga Dua, 1st Fl Blok A Unit 81Jl. Mangg...   (021) 601 - 1043   \n",
       "20520  Emporium Pluit Mall, 1st Fl Unit 17Jl. Pluit S...  (021) 6667 - 6546   \n",
       "1011   Kelapa Gading A6 BJl. Boulevard Artha Gading N...  (021) 4587 - 3977   \n",
       "\n",
       "                keyword                                                url  \n",
       "10407       [Body Care]  https://www.loveindonesia.com/directory/en/jak...  \n",
       "20520  [Nail Treatment]  https://www.loveindonesia.com/directory/en/jak...  \n",
       "1011          [Karaoke]  https://www.loveindonesia.com/directory/en/jak...  "
      ]
     },
     "execution_count": 122,
     "metadata": {},
     "output_type": "execute_result"
    }
   ],
   "source": [
    "df_nonResto_NoDup.sample(3)"
   ]
  },
  {
   "cell_type": "code",
   "execution_count": 123,
   "metadata": {},
   "outputs": [
    {
     "name": "stderr",
     "output_type": "stream",
     "text": [
      "C:\\Users\\Lenovo\\AppData\\Local\\Temp\\ipykernel_17140\\883821854.py:1: SettingWithCopyWarning: \n",
      "A value is trying to be set on a copy of a slice from a DataFrame\n",
      "\n",
      "See the caveats in the documentation: https://pandas.pydata.org/pandas-docs/stable/user_guide/indexing.html#returning-a-view-versus-a-copy\n",
      "  df_nonResto_NoDup.rename(columns={'address':'full_address'},inplace=True)\n"
     ]
    }
   ],
   "source": [
    "df_nonResto_NoDup.rename(columns={'address':'full_address'},inplace=True)"
   ]
  },
  {
   "cell_type": "code",
   "execution_count": 124,
   "metadata": {},
   "outputs": [
    {
     "name": "stderr",
     "output_type": "stream",
     "text": [
      "C:\\Users\\Lenovo\\AppData\\Local\\Temp\\ipykernel_17140\\4177123919.py:1: SettingWithCopyWarning: \n",
      "A value is trying to be set on a copy of a slice from a DataFrame.\n",
      "Try using .loc[row_indexer,col_indexer] = value instead\n",
      "\n",
      "See the caveats in the documentation: https://pandas.pydata.org/pandas-docs/stable/user_guide/indexing.html#returning-a-view-versus-a-copy\n",
      "  df_nonResto_NoDup['province'] = df_nonResto_NoDup['full_address'].map(lambda x: get_prov(x))\n",
      "C:\\Users\\Lenovo\\AppData\\Local\\Temp\\ipykernel_17140\\4177123919.py:2: SettingWithCopyWarning: \n",
      "A value is trying to be set on a copy of a slice from a DataFrame.\n",
      "Try using .loc[row_indexer,col_indexer] = value instead\n",
      "\n",
      "See the caveats in the documentation: https://pandas.pydata.org/pandas-docs/stable/user_guide/indexing.html#returning-a-view-versus-a-copy\n",
      "  df_nonResto_NoDup['city'] = df_nonResto_NoDup['full_address'].map(lambda x: get_city(x))\n"
     ]
    }
   ],
   "source": [
    "df_nonResto_NoDup['province'] = df_nonResto_NoDup['full_address'].map(lambda x: get_prov(x))\n",
    "df_nonResto_NoDup['city'] = df_nonResto_NoDup['full_address'].map(lambda x: get_city(x))"
   ]
  },
  {
   "cell_type": "code",
   "execution_count": 140,
   "metadata": {},
   "outputs": [
    {
     "name": "stderr",
     "output_type": "stream",
     "text": [
      "C:\\Users\\Lenovo\\AppData\\Local\\Temp\\ipykernel_17140\\739920337.py:1: SettingWithCopyWarning: \n",
      "A value is trying to be set on a copy of a slice from a DataFrame.\n",
      "Try using .loc[row_indexer,col_indexer] = value instead\n",
      "\n",
      "See the caveats in the documentation: https://pandas.pydata.org/pandas-docs/stable/user_guide/indexing.html#returning-a-view-versus-a-copy\n",
      "  df_nonResto_NoDup['address'] = df_nonResto_NoDup['full_address'].map(lambda x: x.split(',')[0])\n"
     ]
    }
   ],
   "source": [
    "df_nonResto_NoDup['address'] = df_nonResto_NoDup['full_address'].map(lambda x: x.split(',')[0])"
   ]
  },
  {
   "cell_type": "code",
   "execution_count": 141,
   "metadata": {},
   "outputs": [
    {
     "data": {
      "text/html": [
       "<div>\n",
       "<style scoped>\n",
       "    .dataframe tbody tr th:only-of-type {\n",
       "        vertical-align: middle;\n",
       "    }\n",
       "\n",
       "    .dataframe tbody tr th {\n",
       "        vertical-align: top;\n",
       "    }\n",
       "\n",
       "    .dataframe thead th {\n",
       "        text-align: right;\n",
       "    }\n",
       "</style>\n",
       "<table border=\"1\" class=\"dataframe\">\n",
       "  <thead>\n",
       "    <tr style=\"text-align: right;\">\n",
       "      <th></th>\n",
       "      <th>resto</th>\n",
       "      <th>culinary</th>\n",
       "      <th>full_address</th>\n",
       "      <th>phone</th>\n",
       "      <th>keyword</th>\n",
       "      <th>url</th>\n",
       "      <th>province</th>\n",
       "      <th>city</th>\n",
       "      <th>address</th>\n",
       "    </tr>\n",
       "  </thead>\n",
       "  <tbody>\n",
       "    <tr>\n",
       "      <th>8755</th>\n",
       "      <td>Sabrina Salon</td>\n",
       "      <td>[Spa &amp; Beauty]</td>\n",
       "      <td>Jl. Kali Baru Timur V No. 73, Bungur, SenenSen...</td>\n",
       "      <td>(021) 420 - 4777</td>\n",
       "      <td>[Beauty Salon]</td>\n",
       "      <td>https://www.loveindonesia.com/directory/en/jak...</td>\n",
       "      <td>Jakarta</td>\n",
       "      <td>Jakarta Pusat</td>\n",
       "      <td>Jl. Kali Baru Timur V No. 73</td>\n",
       "    </tr>\n",
       "    <tr>\n",
       "      <th>7366</th>\n",
       "      <td>LaVita Bella Skin and Body Clinic</td>\n",
       "      <td>[Spa &amp; Beauty]</td>\n",
       "      <td>MD Building, 1st FlJl. Setiabudi Selatan No. 7...</td>\n",
       "      <td>(021) 2966 - 9269</td>\n",
       "      <td>[Beauty Clinic]</td>\n",
       "      <td>https://www.loveindonesia.com/directory/en/jak...</td>\n",
       "      <td>Jakarta</td>\n",
       "      <td>Jakarta Selatan</td>\n",
       "      <td>MD Building</td>\n",
       "    </tr>\n",
       "    <tr>\n",
       "      <th>8204</th>\n",
       "      <td>Adwis Collection</td>\n",
       "      <td>[Spa &amp; Beauty]</td>\n",
       "      <td>ITC Fatmawati, G Fl Unit 144Jl. RS Fatmawati N...</td>\n",
       "      <td>(021) 739 - 7729</td>\n",
       "      <td>[Beauty Salon]</td>\n",
       "      <td>https://www.loveindonesia.com/directory/en/jak...</td>\n",
       "      <td>Jakarta</td>\n",
       "      <td>Jakarta Selatan</td>\n",
       "      <td>ITC Fatmawati</td>\n",
       "    </tr>\n",
       "  </tbody>\n",
       "</table>\n",
       "</div>"
      ],
      "text/plain": [
       "                                  resto        culinary  \\\n",
       "8755                      Sabrina Salon  [Spa & Beauty]   \n",
       "7366  LaVita Bella Skin and Body Clinic  [Spa & Beauty]   \n",
       "8204                   Adwis Collection  [Spa & Beauty]   \n",
       "\n",
       "                                           full_address              phone  \\\n",
       "8755  Jl. Kali Baru Timur V No. 73, Bungur, SenenSen...   (021) 420 - 4777   \n",
       "7366  MD Building, 1st FlJl. Setiabudi Selatan No. 7...  (021) 2966 - 9269   \n",
       "8204  ITC Fatmawati, G Fl Unit 144Jl. RS Fatmawati N...   (021) 739 - 7729   \n",
       "\n",
       "              keyword                                                url  \\\n",
       "8755   [Beauty Salon]  https://www.loveindonesia.com/directory/en/jak...   \n",
       "7366  [Beauty Clinic]  https://www.loveindonesia.com/directory/en/jak...   \n",
       "8204   [Beauty Salon]  https://www.loveindonesia.com/directory/en/jak...   \n",
       "\n",
       "     province             city                       address  \n",
       "8755  Jakarta    Jakarta Pusat  Jl. Kali Baru Timur V No. 73  \n",
       "7366  Jakarta  Jakarta Selatan                   MD Building  \n",
       "8204  Jakarta  Jakarta Selatan                 ITC Fatmawati  "
      ]
     },
     "execution_count": 141,
     "metadata": {},
     "output_type": "execute_result"
    }
   ],
   "source": [
    "df_nonResto_NoDup.sample(3)"
   ]
  },
  {
   "cell_type": "code",
   "execution_count": 142,
   "metadata": {},
   "outputs": [],
   "source": [
    "df_ok2 = df_nonResto_NoDup[cols]"
   ]
  },
  {
   "cell_type": "code",
   "execution_count": 14,
   "metadata": {},
   "outputs": [],
   "source": [
    "writer = pd.ExcelWriter('OUTPUT/non_resto/LoveIndonesia_nonResto(2).xlsx',\n",
    "                        engine='xlsxwriter',\n",
    "                        engine_kwargs={\"options\": {\"strings_to_urls\": False}})\n",
    "df_ok2.to_excel(writer)\n",
    "writer.close()"
   ]
  }
 ],
 "metadata": {
  "kernelspec": {
   "display_name": "Python 3",
   "language": "python",
   "name": "python3"
  },
  "language_info": {
   "codemirror_mode": {
    "name": "ipython",
    "version": 3
   },
   "file_extension": ".py",
   "mimetype": "text/x-python",
   "name": "python",
   "nbconvert_exporter": "python",
   "pygments_lexer": "ipython3",
   "version": "3.11.5"
  }
 },
 "nbformat": 4,
 "nbformat_minor": 2
}
